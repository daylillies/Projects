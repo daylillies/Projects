{
 "cells": [
  {
   "cell_type": "code",
   "execution_count": 2,
   "metadata": {
    "vscode": {
     "languageId": "r"
    }
   },
   "outputs": [],
   "source": [
    "# Load R packages\n",
    "library(shiny)\n",
    "library(shinythemes)"
   ]
  },
  {
   "cell_type": "code",
   "execution_count": 3,
   "metadata": {
    "vscode": {
     "languageId": "r"
    }
   },
   "outputs": [],
   "source": [
    "# Define UI\n",
    "ui <- fluidPage(theme = shinytheme(\"cerulean\"),\n",
    "  navbarPage(\n",
    "    # theme = \"cerulean\",  # <--- To use a theme, uncomment this\n",
    "    \"My first app\",\n",
    "    tabPanel(\"Navbar 1\",\n",
    "      sidebarPanel(\n",
    "        tags$h3(\"Input:\"),\n",
    "        textInput(\"txt1\", \"Given Name:\", \"\"),\n",
    "        textInput(\"txt2\", \"Surname:\", \"\"),\n",
    "      ), # sidebarPanel\n",
    "      mainPanel(\n",
    "        h1(\"Header 1\"),\n",
    "        h4(\"Output 1\"),\n",
    "        verbatimTextOutput(\"txtout\"),\n",
    "\n",
    "      ) # mainPanel\n",
    "    ), # Navbar 1, tabPanel\n",
    "    tabPanel(\"Navbar 2\", \"This panel is intentionally left blank\"),\n",
    "    tabPanel(\"Navbar 3\", \"This panel is intentionally left blank\")\n",
    "  ) # navbarPage\n",
    ") # fluidPage"
   ]
  },
  {
   "cell_type": "code",
   "execution_count": 4,
   "metadata": {
    "vscode": {
     "languageId": "r"
    }
   },
   "outputs": [
    {
     "ename": "",
     "evalue": "",
     "output_type": "error",
     "traceback": [
      "\u001b[1;31mThe Kernel crashed while executing code in the current cell or a previous cell. \n",
      "\u001b[1;31mPlease review the code in the cell(s) to identify a possible cause of the failure. \n",
      "\u001b[1;31mClick <a href='https://aka.ms/vscodeJupyterKernelCrash'>here</a> for more info. \n",
      "\u001b[1;31mView Jupyter <a href='command:jupyter.viewOutput'>log</a> for further details."
     ]
    }
   ],
   "source": [
    "# Define server function  \n",
    "server <- function(input, output) {\n",
    "  output$txtout <- renderText({\n",
    "    paste( input$txt1, input$txt2, sep = \" \" )\n",
    "  })\n",
    "} # server"
   ]
  },
  {
   "cell_type": "code",
   "execution_count": null,
   "metadata": {
    "vscode": {
     "languageId": "r"
    }
   },
   "outputs": [
    {
     "name": "stderr",
     "output_type": "stream",
     "text": [
      "\n",
      "Listening on http://127.0.0.1:4543\n",
      "\n"
     ]
    }
   ],
   "source": [
    "# Create Shiny object\n",
    "shinyApp(ui = ui, server = server)"
   ]
  }
 ],
 "metadata": {
  "kernelspec": {
   "display_name": "R",
   "language": "R",
   "name": "ir"
  },
  "language_info": {
   "codemirror_mode": "r",
   "file_extension": ".r",
   "mimetype": "text/x-r-source",
   "name": "R",
   "pygments_lexer": "r",
   "version": "4.4.2"
  }
 },
 "nbformat": 4,
 "nbformat_minor": 2
}
