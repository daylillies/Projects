{
 "cells": [
  {
   "cell_type": "code",
   "execution_count": 1,
   "metadata": {
    "vscode": {
     "languageId": "r"
    }
   },
   "outputs": [],
   "source": [
    "library(shiny)\n",
    "data(airquality)"
   ]
  },
  {
   "cell_type": "code",
   "execution_count": 2,
   "metadata": {
    "vscode": {
     "languageId": "r"
    }
   },
   "outputs": [],
   "source": [
    "# Define UI \n",
    "ui <- fluidPage(\n",
    "  # Add a theme for better aesthetics\n",
    "  theme = shinythemes::shinytheme(\"cerulean\"),\n",
    "  \n",
    "  # App title\n",
    "  titlePanel(\"Ozone Level Histogram\"),\n",
    "  \n",
    "  # Sidebar layout with input and output definitions\n",
    "  sidebarLayout(\n",
    "    # Sidebar panel for inputs\n",
    "    sidebarPanel(\n",
    "      tags$h3(\"Adjust the Histogram\"),\n",
    "      # Input: Slider for the number of bins\n",
    "      sliderInput(\n",
    "        inputId = \"bins\",\n",
    "        label = \"Number of Bins:\",\n",
    "        min = 1,\n",
    "        max = 50,\n",
    "        value = 30\n",
    "      ),\n",
    "      # Add some help text\n",
    "      helpText(\"Use the slider to adjust the number of bins for the histogram.\")\n",
    "    ),\n",
    "    # Main panel for displaying outputs\n",
    "    mainPanel(\n",
    "      tags$h3(\"Ozone Level Distribution\"),\n",
    "      # Output: Histogram\n",
    "      plotOutput(outputId = \"distPlot\")\n",
    "    )\n",
    "  )\n",
    ")\n"
   ]
  },
  {
   "cell_type": "code",
   "execution_count": 3,
   "metadata": {
    "vscode": {
     "languageId": "r"
    }
   },
   "outputs": [],
   "source": [
    "# Define server logic\n",
    "server <- function(input, output) {\n",
    "  output$distPlot <- renderPlot({\n",
    "    # Clean and process data\n",
    "    x <- na.omit(airquality$Ozone)\n",
    "    bins <- seq(min(x), max(x), length.out = input$bins + 1)\n",
    "    # Draw histogram\n",
    "    hist(\n",
    "      x,\n",
    "      breaks = bins,\n",
    "      col = \"#5DADE2\",\n",
    "      border = \"white\",\n",
    "      xlab = \"Ozone Level\",\n",
    "      main = \"Distribution of Ozone Levels\",\n",
    "      las = 1\n",
    "    )\n",
    "  })\n",
    "}"
   ]
  },
  {
   "cell_type": "code",
   "execution_count": 4,
   "metadata": {
    "vscode": {
     "languageId": "r"
    }
   },
   "outputs": [
    {
     "name": "stderr",
     "output_type": "stream",
     "text": [
      "\n",
      "Listening on http://127.0.0.1:4609\n",
      "\n"
     ]
    },
    {
     "ename": "",
     "evalue": "",
     "output_type": "error",
     "traceback": [
      "\u001b[1;31mThe Kernel crashed while executing code in the current cell or a previous cell. \n",
      "\u001b[1;31mPlease review the code in the cell(s) to identify a possible cause of the failure. \n",
      "\u001b[1;31mClick <a href='https://aka.ms/vscodeJupyterKernelCrash'>here</a> for more info. \n",
      "\u001b[1;31mView Jupyter <a href='command:jupyter.viewOutput'>log</a> for further details."
     ]
    }
   ],
   "source": [
    "# Create Shiny app ----\n",
    "shinyApp(ui = ui, server = server)"
   ]
  }
 ],
 "metadata": {
  "kernelspec": {
   "display_name": "R",
   "language": "R",
   "name": "ir"
  },
  "language_info": {
   "codemirror_mode": "r",
   "file_extension": ".r",
   "mimetype": "text/x-r-source",
   "name": "R",
   "pygments_lexer": "r",
   "version": "4.4.2"
  }
 },
 "nbformat": 4,
 "nbformat_minor": 2
}
