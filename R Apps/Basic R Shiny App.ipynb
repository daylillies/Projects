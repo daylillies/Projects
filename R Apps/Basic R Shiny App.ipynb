{
 "cells": [
  {
   "cell_type": "code",
   "execution_count": 2,
   "metadata": {
    "vscode": {
     "languageId": "r"
    }
   },
   "outputs": [],
   "source": [
    "# Load R packages\n",
    "library(shiny)\n",
    "library(shinythemes)"
   ]
  },
  {
   "cell_type": "code",
   "execution_count": null,
   "metadata": {
    "vscode": {
     "languageId": "r"
    }
   },
   "outputs": [],
   "source": [
    "# Define UI\n",
    "ui <- fluidPage(\n",
    "  theme = shinytheme(\"cerulean\"),\n",
    "  navbarPage(\n",
    "    \"My First App\",\n",
    "    tabPanel(\n",
    "      \"Input Form\",\n",
    "      sidebarLayout(\n",
    "        sidebarPanel(\n",
    "          tags$h3(\"Please Enter Your Details:\"),\n",
    "          textInput(\"txt1\", \"First Name:\", \"\"),\n",
    "          textInput(\"txt2\", \"Last Name:\", \"\"),\n",
    "          actionButton(\"submit\", \"Submit\", class = \"btn-primary\")\n",
    "        ),\n",
    "        mainPanel(\n",
    "          h1(\"Welcome!\"),\n",
    "          h4(\"Your Input:\"),\n",
    "          verbatimTextOutput(\"txtout\")\n",
    "        )\n",
    "      )\n",
    "    ),\n",
    "    tabPanel(\n",
    "      \"Navi\",\n",
    "      fluidRow(\n",
    "        column(\n",
    "          12,\n",
    "          tags$h3(\"This Panel is Intentionally Left Blank\"),\n",
    "          p(\"You can add content here in the future.\")\n",
    "        )\n",
    "      )\n",
    "    ),\n",
    "    tabPanel(\n",
    "      \"Help\",\n",
    "      fluidRow(\n",
    "        column(\n",
    "          12,\n",
    "          tags$h3(\"This Panel is Intentionally Left Blank\"),\n",
    "          p(\"Add useful help documentation here.\")\n",
    "        )\n",
    "      )\n",
    "    )\n",
    "  )\n",
    ")"
   ]
  },
  {
   "cell_type": "code",
   "execution_count": 4,
   "metadata": {
    "vscode": {
     "languageId": "r"
    }
   },
   "outputs": [],
   "source": [
    "# Define server function  \n",
    "server <- function(input, output) {\n",
    "  output$txtout <- renderText({\n",
    "    # Check if inputs are not empty and return formatted output\n",
    "    if (nzchar(input$txt1) || nzchar(input$txt2)) {\n",
    "      paste(\"Hello,\", input$txt1, input$txt2)\n",
    "    } else {\n",
    "      \"Please enter your name!\"\n",
    "    }\n",
    "  })\n",
    "}"
   ]
  },
  {
   "cell_type": "code",
   "execution_count": 5,
   "metadata": {
    "vscode": {
     "languageId": "r"
    }
   },
   "outputs": [
    {
     "name": "stderr",
     "output_type": "stream",
     "text": [
      "\n",
      "Listening on http://127.0.0.1:4785\n",
      "\n"
     ]
    },
    {
     "ename": "",
     "evalue": "",
     "output_type": "error",
     "traceback": [
      "\u001b[1;31mThe Kernel crashed while executing code in the current cell or a previous cell. \n",
      "\u001b[1;31mPlease review the code in the cell(s) to identify a possible cause of the failure. \n",
      "\u001b[1;31mClick <a href='https://aka.ms/vscodeJupyterKernelCrash'>here</a> for more info. \n",
      "\u001b[1;31mView Jupyter <a href='command:jupyter.viewOutput'>log</a> for further details."
     ]
    }
   ],
   "source": [
    "# Create Shiny object\n",
    "shinyApp(ui = ui, server = server)"
   ]
  }
 ],
 "metadata": {
  "kernelspec": {
   "display_name": "R",
   "language": "R",
   "name": "ir"
  },
  "language_info": {
   "codemirror_mode": "r",
   "file_extension": ".r",
   "mimetype": "text/x-r-source",
   "name": "R",
   "pygments_lexer": "r",
   "version": "4.4.2"
  }
 },
 "nbformat": 4,
 "nbformat_minor": 2
}
