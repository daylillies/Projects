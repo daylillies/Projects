{
 "cells": [
  {
   "cell_type": "code",
   "execution_count": 1,
   "metadata": {
    "vscode": {
     "languageId": "r"
    }
   },
   "outputs": [
    {
     "name": "stderr",
     "output_type": "stream",
     "text": [
      "randomForest 4.7-1.2\n",
      "\n",
      "Type rfNews() to see new features/changes/bug fixes.\n",
      "\n"
     ]
    }
   ],
   "source": [
    "# Import libraries\n",
    "library(shiny)\n",
    "library(data.table)\n",
    "library(randomForest)"
   ]
  },
  {
   "cell_type": "code",
   "execution_count": 2,
   "metadata": {
    "vscode": {
     "languageId": "r"
    }
   },
   "outputs": [],
   "source": [
    "# Training set (without removing the first column)\n",
    "TrainSet <- read.csv(\"training.csv\", header = TRUE)\n",
    "\n",
    "# Ensure that columns are numeric before using them in sliders\n",
    "TrainSet$Sepal.Length <- as.numeric(TrainSet$Sepal.Length)\n",
    "TrainSet$Sepal.Width <- as.numeric(TrainSet$Sepal.Width)\n",
    "TrainSet$Petal.Length <- as.numeric(TrainSet$Petal.Length)\n",
    "TrainSet$Petal.Width <- as.numeric(TrainSet$Petal.Width)"
   ]
  },
  {
   "cell_type": "code",
   "execution_count": 3,
   "metadata": {
    "vscode": {
     "languageId": "r"
    }
   },
   "outputs": [],
   "source": [
    "# Define UI\n",
    "ui <- pageWithSidebar(\n",
    "  \n",
    "  # Page header\n",
    "  headerPanel('Iris Predictor'),\n",
    "  \n",
    "  # Input values\n",
    "  sidebarPanel(\n",
    "    HTML(\"<h3>Input parameters</h3>\"),\n",
    "    sliderInput(\"Sepal.Length\", label = \"Sepal Length\", value = 5.0,\n",
    "                min = 4.3, max = 7.9),  # Adjust these ranges based on your dataset\n",
    "    sliderInput(\"Sepal.Width\", label = \"Sepal Width\", value = 3.6,\n",
    "                min = 2.0, max = 4.4),  # Adjust these ranges based on your dataset\n",
    "    sliderInput(\"Petal.Length\", label = \"Petal Length\", value = 1.4,\n",
    "                min = 1.0, max = 6.9),  # Adjust these ranges based on your dataset\n",
    "    sliderInput(\"Petal.Width\", label = \"Petal Width\", value = 0.2,\n",
    "                min = 0.1, max = 2.5),  # Adjust these ranges based on your dataset\n",
    "    \n",
    "    actionButton(\"submitbutton\", \"Submit\", class = \"btn btn-primary\")\n",
    "  ),\n",
    "  \n",
    "  mainPanel(\n",
    "    tags$label(h3('Status/Output')), # Status/Output Text Box\n",
    "    verbatimTextOutput('contents'),\n",
    "    tableOutput('tabledata') # Prediction results table\n",
    "    \n",
    "  )\n",
    ")"
   ]
  },
  {
   "cell_type": "code",
   "execution_count": 4,
   "metadata": {
    "vscode": {
     "languageId": "r"
    }
   },
   "outputs": [],
   "source": [
    "# Define server function\n",
    "server <- function(input, output, session) {\n",
    "  \n",
    "  # Load the model inside the server function\n",
    "  model <- readRDS(\"model.rds\")\n",
    "  \n",
    "  # Input Data\n",
    "  datasetInput <- reactive({  \n",
    "    \n",
    "    # Create a data frame from input values\n",
    "    df <- data.frame(\n",
    "      Sepal.Length = as.numeric(input$Sepal.Length),\n",
    "      Sepal.Width = as.numeric(input$Sepal.Width),\n",
    "      Petal.Length = as.numeric(input$Petal.Length),\n",
    "      Petal.Width = as.numeric(input$Petal.Width),\n",
    "      stringsAsFactors = FALSE\n",
    "    )\n",
    "    \n",
    "    # Make predictions using the trained model\n",
    "    Output <- data.frame(Prediction = predict(model, df), \n",
    "                         round(predict(model, df, type = \"prob\"), 3))\n",
    "    print(Output)\n",
    "    \n",
    "    return(Output)\n",
    "  })\n",
    "  \n",
    "  # Status/Output Text Box\n",
    "  output$contents <- renderPrint({\n",
    "    if (input$submitbutton > 0) { \n",
    "      isolate(\"Calculation complete.\") \n",
    "    } else {\n",
    "      return(\"Server is ready for calculation.\")\n",
    "    }\n",
    "  })\n",
    "  \n",
    "  # Prediction results table\n",
    "  output$tabledata <- renderTable({\n",
    "    if (input$submitbutton > 0) { \n",
    "      isolate(datasetInput()) \n",
    "    } \n",
    "  })\n",
    "  \n",
    "}"
   ]
  },
  {
   "cell_type": "code",
   "execution_count": null,
   "metadata": {
    "vscode": {
     "languageId": "r"
    }
   },
   "outputs": [
    {
     "name": "stderr",
     "output_type": "stream",
     "text": [
      "\n",
      "Listening on http://127.0.0.1:6799\n",
      "\n"
     ]
    }
   ],
   "source": [
    "# Create the shiny app\n",
    "shinyApp(ui = ui, server = server)"
   ]
  }
 ],
 "metadata": {
  "kernelspec": {
   "display_name": "R",
   "language": "R",
   "name": "ir"
  },
  "language_info": {
   "codemirror_mode": "r",
   "file_extension": ".r",
   "mimetype": "text/x-r-source",
   "name": "R",
   "pygments_lexer": "r",
   "version": "4.4.2"
  }
 },
 "nbformat": 4,
 "nbformat_minor": 2
}
