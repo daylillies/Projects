{
 "cells": [
  {
   "cell_type": "code",
   "execution_count": 1,
   "metadata": {
    "vscode": {
     "languageId": "r"
    }
   },
   "outputs": [
    {
     "name": "stderr",
     "output_type": "stream",
     "text": [
      "randomForest 4.7-1.2\n",
      "\n",
      "Type rfNews() to see new features/changes/bug fixes.\n",
      "\n"
     ]
    }
   ],
   "source": [
    "# Import libraries\n",
    "library(shiny)\n",
    "library(data.table)\n",
    "library(randomForest)"
   ]
  },
  {
   "cell_type": "code",
   "execution_count": 2,
   "metadata": {
    "vscode": {
     "languageId": "r"
    }
   },
   "outputs": [],
   "source": [
    "# Read in the RF model\n",
    "model <- readRDS(\"model.rds\")"
   ]
  },
  {
   "cell_type": "code",
   "execution_count": 3,
   "metadata": {
    "vscode": {
     "languageId": "r"
    }
   },
   "outputs": [],
   "source": [
    "# Define UI\n",
    "\n",
    "ui <- pageWithSidebar(\n",
    "  \n",
    "  # Page header\n",
    "  headerPanel('Iris Predictor'),\n",
    "  \n",
    "  # Input values\n",
    "  sidebarPanel(\n",
    "    #HTML(\"<h3>Input parameters</h3>\"),\n",
    "    tags$label(h3('Input parameters')),\n",
    "    numericInput(\"Sepal.Length\", \n",
    "                 label = \"Sepal Length\", \n",
    "                 value = 5.1),\n",
    "    numericInput(\"Sepal.Width\", \n",
    "                 label = \"Sepal Width\", \n",
    "                 value = 3.6),\n",
    "    numericInput(\"Petal.Length\", \n",
    "                 label = \"Petal Length\", \n",
    "                 value = 1.4),\n",
    "    numericInput(\"Petal.Width\", \n",
    "                 label = \"Petal Width\", \n",
    "                 value = 0.2),\n",
    "    \n",
    "    actionButton(\"submitbutton\", \"Submit\", \n",
    "                 class = \"btn btn-primary\")\n",
    "  ),\n",
    "  \n",
    "  mainPanel(\n",
    "    tags$label(h3('Status/Output')), # Status/Output Text Box\n",
    "    verbatimTextOutput('contents'),\n",
    "    tableOutput('tabledata') # Prediction results table\n",
    "    \n",
    "  )\n",
    ")"
   ]
  },
  {
   "cell_type": "code",
   "execution_count": 4,
   "metadata": {
    "vscode": {
     "languageId": "r"
    }
   },
   "outputs": [],
   "source": [
    "# Define server function \n",
    "server<- function(input, output, session) {\n",
    "  \n",
    "  # Input Data\n",
    "  datasetInput <- reactive({  \n",
    "    \n",
    "    df <- data.frame(\n",
    "      Name = c(\"Sepal Length\",\n",
    "               \"Sepal Width\",\n",
    "               \"Petal Length\",\n",
    "               \"Petal Width\"),\n",
    "      Value = as.character(c(input$Sepal.Length,\n",
    "                             input$Sepal.Width,\n",
    "                             input$Petal.Length,\n",
    "                             input$Petal.Width)),\n",
    "      stringsAsFactors = FALSE)\n",
    "    \n",
    "    Species <- 0\n",
    "    df <- rbind(df, Species)\n",
    "    input <- transpose(df)\n",
    "    write.table(input,\"input.csv\", sep=\",\", quote = FALSE, row.names = FALSE, col.names = FALSE)\n",
    "    \n",
    "    test <- read.csv(paste(\"input\", \".csv\", sep=\"\"), header = TRUE)\n",
    "    \n",
    "    Output <- data.frame(Prediction=predict(model,test), round(predict(model,test,type=\"prob\"), 3))\n",
    "    print(Output)\n",
    "    \n",
    "  })\n",
    "  \n",
    "  # Status/Output Text Box\n",
    "  output$contents <- renderPrint({\n",
    "    if (input$submitbutton>0) { \n",
    "      isolate(\"Calculation complete.\") \n",
    "    } else {\n",
    "      return(\"Server is ready for calculation.\")\n",
    "    }\n",
    "  })\n",
    "  \n",
    "  # Prediction results table\n",
    "  output$tabledata <- renderTable({\n",
    "    if (input$submitbutton>0) { \n",
    "      isolate(datasetInput()) \n",
    "    } \n",
    "  })\n",
    "  \n",
    "}"
   ]
  },
  {
   "cell_type": "code",
   "execution_count": 5,
   "metadata": {
    "vscode": {
     "languageId": "r"
    }
   },
   "outputs": [
    {
     "name": "stderr",
     "output_type": "stream",
     "text": [
      "\n",
      "Listening on http://127.0.0.1:7676\n",
      "\n"
     ]
    },
    {
     "ename": "",
     "evalue": "",
     "output_type": "error",
     "traceback": [
      "\u001b[1;31mThe Kernel crashed while executing code in the current cell or a previous cell. \n",
      "\u001b[1;31mPlease review the code in the cell(s) to identify a possible cause of the failure. \n",
      "\u001b[1;31mClick <a href='https://aka.ms/vscodeJupyterKernelCrash'>here</a> for more info. \n",
      "\u001b[1;31mView Jupyter <a href='command:jupyter.viewOutput'>log</a> for further details."
     ]
    }
   ],
   "source": [
    "# Create the shiny app\n",
    "shinyApp(ui = ui, server = server)"
   ]
  }
 ],
 "metadata": {
  "kernelspec": {
   "display_name": "R",
   "language": "R",
   "name": "ir"
  },
  "language_info": {
   "codemirror_mode": "r",
   "file_extension": ".r",
   "mimetype": "text/x-r-source",
   "name": "R",
   "pygments_lexer": "r",
   "version": "4.4.2"
  }
 },
 "nbformat": 4,
 "nbformat_minor": 2
}
