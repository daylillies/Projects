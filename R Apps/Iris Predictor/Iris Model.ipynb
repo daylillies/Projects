{
 "cells": [
  {
   "cell_type": "code",
   "execution_count": 1,
   "metadata": {
    "vscode": {
     "languageId": "r"
    }
   },
   "outputs": [
    {
     "name": "stderr",
     "output_type": "stream",
     "text": [
      "Installing package into 'C:/Users/kathe/AppData/Local/R/win-library/4.4'\n",
      "(as 'lib' is unspecified)\n",
      "\n",
      "also installing the dependencies 'listenv', 'parallelly', 'future', 'globals', 'shape', 'future.apply', 'numDeriv', 'progressr', 'SQUAREM', 'colorspace', 'diagram', 'lava', 'farver', 'labeling', 'munsell', 'RColorBrewer', 'viridisLite', 'fansi', 'pkgconfig', 'tzdb', 'prodlim', 'timechange', 'gtable', 'isoband', 'scales', 'tibble', 'proxy', 'iterators', 'dplyr', 'clock', 'generics', 'gower', 'hardhat', 'ipred', 'lubridate', 'tidyr', 'tidyselect', 'timeDate', 'ggplot2', 'e1071', 'foreach', 'ModelMetrics', 'plyr', 'pROC', 'recipes', 'reshape2'\n",
      "\n",
      "\n"
     ]
    },
    {
     "name": "stdout",
     "output_type": "stream",
     "text": [
      "package 'listenv' successfully unpacked and MD5 sums checked\n",
      "package 'parallelly' successfully unpacked and MD5 sums checked\n",
      "package 'future' successfully unpacked and MD5 sums checked\n",
      "package 'globals' successfully unpacked and MD5 sums checked\n",
      "package 'shape' successfully unpacked and MD5 sums checked\n",
      "package 'future.apply' successfully unpacked and MD5 sums checked\n",
      "package 'numDeriv' successfully unpacked and MD5 sums checked\n",
      "package 'progressr' successfully unpacked and MD5 sums checked\n",
      "package 'SQUAREM' successfully unpacked and MD5 sums checked\n",
      "package 'colorspace' successfully unpacked and MD5 sums checked\n",
      "package 'diagram' successfully unpacked and MD5 sums checked\n",
      "package 'lava' successfully unpacked and MD5 sums checked\n",
      "package 'farver' successfully unpacked and MD5 sums checked\n",
      "package 'labeling' successfully unpacked and MD5 sums checked\n",
      "package 'munsell' successfully unpacked and MD5 sums checked\n",
      "package 'RColorBrewer' successfully unpacked and MD5 sums checked\n",
      "package 'viridisLite' successfully unpacked and MD5 sums checked\n",
      "package 'fansi' successfully unpacked and MD5 sums checked\n",
      "package 'pkgconfig' successfully unpacked and MD5 sums checked\n",
      "package 'tzdb' successfully unpacked and MD5 sums checked\n",
      "package 'prodlim' successfully unpacked and MD5 sums checked\n",
      "package 'timechange' successfully unpacked and MD5 sums checked\n",
      "package 'gtable' successfully unpacked and MD5 sums checked\n",
      "package 'isoband' successfully unpacked and MD5 sums checked\n",
      "package 'scales' successfully unpacked and MD5 sums checked\n",
      "package 'tibble' successfully unpacked and MD5 sums checked\n",
      "package 'proxy' successfully unpacked and MD5 sums checked\n",
      "package 'iterators' successfully unpacked and MD5 sums checked\n",
      "package 'dplyr' successfully unpacked and MD5 sums checked\n",
      "package 'clock' successfully unpacked and MD5 sums checked\n",
      "package 'generics' successfully unpacked and MD5 sums checked\n",
      "package 'gower' successfully unpacked and MD5 sums checked\n",
      "package 'hardhat' successfully unpacked and MD5 sums checked\n",
      "package 'ipred' successfully unpacked and MD5 sums checked\n",
      "package 'lubridate' successfully unpacked and MD5 sums checked\n",
      "package 'tidyr' successfully unpacked and MD5 sums checked\n",
      "package 'tidyselect' successfully unpacked and MD5 sums checked\n",
      "package 'timeDate' successfully unpacked and MD5 sums checked\n",
      "package 'ggplot2' successfully unpacked and MD5 sums checked\n",
      "package 'e1071' successfully unpacked and MD5 sums checked\n",
      "package 'foreach' successfully unpacked and MD5 sums checked\n",
      "package 'ModelMetrics' successfully unpacked and MD5 sums checked\n",
      "package 'plyr' successfully unpacked and MD5 sums checked\n",
      "package 'pROC' successfully unpacked and MD5 sums checked\n",
      "package 'recipes' successfully unpacked and MD5 sums checked\n",
      "package 'reshape2' successfully unpacked and MD5 sums checked\n",
      "package 'caret' successfully unpacked and MD5 sums checked\n",
      "\n",
      "The downloaded binary packages are in\n",
      "\tC:\\Users\\kathe\\AppData\\Local\\Temp\\RtmpQhx7DL\\downloaded_packages\n"
     ]
    }
   ],
   "source": [
    "install.packages('caret')"
   ]
  },
  {
   "cell_type": "code",
   "execution_count": 2,
   "metadata": {
    "vscode": {
     "languageId": "r"
    }
   },
   "outputs": [
    {
     "name": "stderr",
     "output_type": "stream",
     "text": [
      "randomForest 4.7-1.2\n",
      "\n",
      "Type rfNews() to see new features/changes/bug fixes.\n",
      "\n",
      "Loading required package: ggplot2\n",
      "\n",
      "\n",
      "Attaching package: 'ggplot2'\n",
      "\n",
      "\n",
      "The following object is masked from 'package:randomForest':\n",
      "\n",
      "    margin\n",
      "\n",
      "\n",
      "Loading required package: lattice\n",
      "\n"
     ]
    }
   ],
   "source": [
    "# Importing libraries\n",
    "library(RCurl) \n",
    "library(randomForest)\n",
    "library(caret)"
   ]
  },
  {
   "cell_type": "code",
   "execution_count": 13,
   "metadata": {
    "vscode": {
     "languageId": "r"
    }
   },
   "outputs": [],
   "source": [
    "# Importing the Iris data set\n",
    "iris <- read.csv(text = getURL(\"https://raw.githubusercontent.com/dataprofessor/data/master/iris.csv\"))"
   ]
  },
  {
   "cell_type": "code",
   "execution_count": 14,
   "metadata": {
    "vscode": {
     "languageId": "r"
    }
   },
   "outputs": [],
   "source": [
    "# Perform stratified random split of the dataset\n",
    "TrainingIndex <- createDataPartition(iris$Species, p = 0.8, list = FALSE)\n",
    "TrainingSet <- iris[TrainingIndex, ]  # Training Set\n",
    "TestingSet <- iris[-TrainingIndex, ]  # Test Set\n",
    "\n",
    "# Optionally, save the splits to CSV\n",
    "write.csv(TrainingSet, \"training.csv\", row.names = FALSE)\n",
    "write.csv(TestingSet, \"testing.csv\", row.names = FALSE)\n",
    "\n",
    "# Read back the training data (if necessary, or you could skip this part)\n",
    "TrainSet <- read.csv(\"training.csv\", header = TRUE)\n",
    "\n",
    "# Ensure that 'Species' column is still a factor after reading back the CSV\n",
    "TrainSet$Species <- as.factor(TrainSet$Species)"
   ]
  },
  {
   "cell_type": "code",
   "execution_count": 15,
   "metadata": {
    "vscode": {
     "languageId": "r"
    }
   },
   "outputs": [],
   "source": [
    "# Building Random forest model\n",
    "model <- randomForest(Species ~ ., data = TrainSet, ntree = 500, mtry = 4, importance = TRUE)"
   ]
  },
  {
   "cell_type": "code",
   "execution_count": 16,
   "metadata": {
    "vscode": {
     "languageId": "r"
    }
   },
   "outputs": [],
   "source": [
    "# Save model to RDS file\n",
    "saveRDS(model, \"model.rds\")"
   ]
  }
 ],
 "metadata": {
  "kernelspec": {
   "display_name": "R",
   "language": "R",
   "name": "ir"
  },
  "language_info": {
   "codemirror_mode": "r",
   "file_extension": ".r",
   "mimetype": "text/x-r-source",
   "name": "R",
   "pygments_lexer": "r",
   "version": "4.4.2"
  }
 },
 "nbformat": 4,
 "nbformat_minor": 2
}
