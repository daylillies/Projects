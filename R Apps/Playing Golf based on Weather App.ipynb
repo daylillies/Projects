{
 "cells": [
  {
   "cell_type": "code",
   "execution_count": 1,
   "metadata": {
    "vscode": {
     "languageId": "r"
    }
   },
   "outputs": [
    {
     "name": "stderr",
     "output_type": "stream",
     "text": [
      "randomForest 4.7-1.2\n",
      "\n",
      "Type rfNews() to see new features/changes/bug fixes.\n",
      "\n"
     ]
    }
   ],
   "source": [
    "# Import libraries\n",
    "library(shiny)\n",
    "library(shinythemes)\n",
    "library(data.table)\n",
    "library(RCurl)\n",
    "library(randomForest)"
   ]
  },
  {
   "cell_type": "code",
   "execution_count": 2,
   "metadata": {
    "vscode": {
     "languageId": "r"
    }
   },
   "outputs": [
    {
     "ename": "ERROR",
     "evalue": "Error: object 'weather' not found\n",
     "output_type": "error",
     "traceback": [
      "Error: object 'weather' not found\nTraceback:\n",
      "1. is.factor(x)",
      "2. .handleSimpleError(function (cnd) \n . {\n .     watcher$capture_plot_and_output()\n .     cnd <- sanitize_call(cnd)\n .     watcher$push(cnd)\n .     switch(on_error, continue = invokeRestart(\"eval_continue\"), \n .         stop = invokeRestart(\"eval_stop\"), error = invokeRestart(\"eval_error\", \n .             cnd))\n . }, \"object 'weather' not found\", base::quote(eval(expr, envir)))"
     ]
    }
   ],
   "source": [
    "# Convert categorical variables to factors\n",
    "weather$outlook <- as.factor(weather$outlook)\n",
    "weather$windy <- as.factor(weather$windy)\n",
    "weather$play <- as.factor(weather$play)\n",
    "\n",
    "# Check class distribution\n",
    "table(weather$play)\n",
    "\n",
    "# Build the Random Forest model\n",
    "model <- randomForest(play ~ ., data = weather, ntree = 500, mtry = 2, importance = TRUE)\n",
    "\n",
    "# Print model summary\n",
    "print(model)\n",
    "\n",
    "# Check variable importance\n",
    "print(importance(model))"
   ]
  },
  {
   "cell_type": "code",
   "execution_count": 5,
   "metadata": {
    "vscode": {
     "languageId": "r"
    }
   },
   "outputs": [],
   "source": [
    "# Define UI\n",
    "ui <- fluidPage(theme = shinytheme(\"united\"),\n",
    "  headerPanel('Should you Play Golf?'),\n",
    "  sidebarPanel(\n",
    "    HTML(\"<h3>Input parameters</h3>\"),\n",
    "    selectInput(\"outlook\", \"Outlook:\", \n",
    "                choices = list(\"Sunny\" = \"sunny\", \"Overcast\" = \"overcast\", \"Rainy\" = \"rainy\"), \n",
    "                selected = \"Rainy\"),\n",
    "    sliderInput(\"temperature\", \"Temperature:\", min = 64, max = 86, value = 70),\n",
    "    sliderInput(\"humidity\", \"Humidity:\", min = 65, max = 96, value = 90),\n",
    "    selectInput(\"windy\", \"Windy:\", choices = list(\"Yes\" = \"TRUE\", \"No\" = \"FALSE\"), selected = \"TRUE\"),\n",
    "    actionButton(\"submitbutton\", \"Submit\", class = \"btn btn-primary\")\n",
    "  ),\n",
    "  mainPanel(\n",
    "    tags$label(h3('Status/Output')),\n",
    "    verbatimTextOutput('contents'),\n",
    "    tableOutput('tabledata')\n",
    "  )\n",
    ")\n",
    "\n",
    "# Define server\n",
    "server <- function(input, output, session) {\n",
    "  datasetInput <- reactive({\n",
    "    df <- data.frame(\n",
    "      outlook = input$outlook,\n",
    "      temperature = input$temperature,\n",
    "      humidity = input$humidity,\n",
    "      windy = input$windy,\n",
    "      stringsAsFactors = FALSE\n",
    "    )\n",
    "    df$outlook <- factor(df$outlook, levels = levels(weather$outlook))\n",
    "    df$windy <- factor(df$windy, levels = levels(weather$windy))\n",
    "    prediction <- predict(model, df)\n",
    "    probabilities <- round(predict(model, df, type = \"prob\"), 3)\n",
    "    Output <- data.frame(Prediction = prediction, Probabilities = probabilities)\n",
    "    return(Output)\n",
    "  })\n",
    "  output$contents <- renderPrint({\n",
    "    if (input$submitbutton > 0) {\n",
    "      isolate(\"Calculation complete.\")\n",
    "    } else {\n",
    "      return(\"Server is ready for calculation.\")\n",
    "    }\n",
    "  })\n",
    "  output$tabledata <- renderTable({\n",
    "    if (input$submitbutton > 0) {\n",
    "      isolate(datasetInput())\n",
    "    } \n",
    "  })\n",
    "}"
   ]
  },
  {
   "cell_type": "code",
   "execution_count": 8,
   "metadata": {
    "vscode": {
     "languageId": "r"
    }
   },
   "outputs": [],
   "source": [
    "server <- function(input, output, session) {\n",
    "\n",
    "  # Reactive dataset based on user inputs\n",
    "  datasetInput <- reactive({\n",
    "    # Create input data frame\n",
    "    df <- data.frame(\n",
    "      outlook = input$outlook,\n",
    "      temperature = input$temperature,\n",
    "      humidity = input$humidity,\n",
    "      windy = input$windy,\n",
    "      stringsAsFactors = FALSE\n",
    "    )\n",
    "    # Align factor levels with training data\n",
    "    df$outlook <- factor(df$outlook, levels = levels(weather$outlook))\n",
    "    df$windy <- factor(df$windy, levels = levels(weather$windy))\n",
    "    # Make predictions\n",
    "    prediction <- predict(model, df)\n",
    "    probabilities <- round(predict(model, df, type = \"prob\"), 3)\n",
    "    # Combine predictions and probabilities\n",
    "    Output <- data.frame(Prediction = prediction, Probabilities = probabilities)\n",
    "    return(Output)\n",
    "  })\n",
    "  # Status/Output Text Box\n",
    "  output$contents <- renderPrint({\n",
    "    if (input$submitbutton > 0) { \n",
    "      isolate(\"Calculation complete.\") \n",
    "    } else {\n",
    "      return(\"Server is ready for calculation.\")\n",
    "    }\n",
    "  })\n",
    "  # Prediction results table\n",
    "  output$tabledata <- renderTable({\n",
    "    if (input$submitbutton > 0) {\n",
    "      isolate(datasetInput())\n",
    "    }\n",
    "  })\n",
    "}\n"
   ]
  },
  {
   "cell_type": "code",
   "execution_count": null,
   "metadata": {
    "vscode": {
     "languageId": "r"
    }
   },
   "outputs": [
    {
     "name": "stderr",
     "output_type": "stream",
     "text": [
      "\n",
      "Listening on http://127.0.0.1:3868\n",
      "\n"
     ]
    },
    {
     "ename": "",
     "evalue": "",
     "output_type": "error",
     "traceback": [
      "\u001b[1;31mThe Kernel crashed while executing code in the current cell or a previous cell. \n",
      "\u001b[1;31mPlease review the code in the cell(s) to identify a possible cause of the failure. \n",
      "\u001b[1;31mClick <a href='https://aka.ms/vscodeJupyterKernelCrash'>here</a> for more info. \n",
      "\u001b[1;31mView Jupyter <a href='command:jupyter.viewOutput'>log</a> for further details."
     ]
    }
   ],
   "source": [
    "# Create the shiny app \n",
    "shinyApp(ui = ui, server = server)"
   ]
  }
 ],
 "metadata": {
  "kernelspec": {
   "display_name": "R",
   "language": "R",
   "name": "ir"
  },
  "language_info": {
   "codemirror_mode": "r",
   "file_extension": ".r",
   "mimetype": "text/x-r-source",
   "name": "R",
   "pygments_lexer": "r",
   "version": "4.4.2"
  }
 },
 "nbformat": 4,
 "nbformat_minor": 2
}
